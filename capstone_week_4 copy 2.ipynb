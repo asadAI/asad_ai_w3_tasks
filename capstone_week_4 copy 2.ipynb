{
    "nbformat_minor": 1, 
    "cells": [
        {
            "source": "\n# Work and Live in Houston\n\n## IBM Data Science Professional Certificate \u2022 Capstone Project \u2022 Week 4 \u2022 Asadullah Aliyev\n", 
            "cell_type": "markdown", 
            "metadata": {
                "collapsed": true
            }
        }, 
        {
            "source": "# 2. A description of the data and how it will be used to solve the problem.\n\nI will use different sources to find out proper data to analyze. First of all, I will refer to [Niche.com's](https://www.niche.com/places-to-live/search/best-zip-codes-to-buy-a-house/m/houston-metro-area/) \"2018 Best ZIP Codes to Buy a House in the Houston Area\" analysis and take the list of Top 10 ZIP codes. Then I will make my own analysis to find out the best place that meets my requirements.\n\n**CRIME RATE**: If your neighborhood is not safe, you and your family will live in fear and won't be happy at all. ***Crime rate*** is one the key indicators to check if potential neighborhood is safe. [Neighborhood Scout.com's]( www.neighborhoodscout.com) displays a breakdown of the crimes committed in the vicinity. Since there is not available listed bulk crime rates for Houston ZIP codes, I will use individual search funcionality for each case. There are a lot of crime indicators, like violent crime, property crime, crime per square mile, etc. But, I will use annual crime rate per 1000 resident indicator. \n\n**TRAVEL TO WORK**: I will use ***Mean travel time to work*** indicator to compare the neighborhoods. Travel time to work refers to the total number of minutes that it usually took the person to get from home to work each day during the reference week. The elapsed time includes time spent waiting for public transportation, picking up passengers in carpools, and time spent in other activities related to getting to work. For this indicator, I will use comprehensive chart from the article written by Katharine Shilcutt in the April 2015 issue of [Houstonia magazine](https://www.houstoniamag.com/articles/2015/3/30/houston-neighborhoods-by-the-numbers-april-2015).\n \n**SCHOOL RATES**: Since my children are high school students, I will use ***Grade for High Schools*** indicator from [Houstonia magazine](https://www.houstoniamag.com/articles/2015/3/30/houston-neighborhoods-by-the-numbers-april-2015) article for comparison. The rates are in traditional letter system\u2014A, B, C, and D.\n\n**CLOSEST TO AMENITIES**: For this category, I will refer ***Walkability Score*** from [Neighborhoods by the Numbers 2015](https://www.houstoniamag.com/articles/2015/3/30/houston-neighborhoods-by-the-numbers-april-2015) article. Walkability is a measure of how friendly an area is to walking. The extent to which the built environment is friendly to the presence of people living, shopping, visiting, enjoying or spending time in an area.\n\n**HOME PRICES**: To decide on price affordability, I will use ***Median Home Price*** indicator from the previous source - [Neighborhoods by the Numbers 2015](https://www.houstoniamag.com/articles/2015/3/30/houston-neighborhoods-by-the-numbers-april-2015) article. \n\nI will tranform all above data into a pandas dataframe. Then I will do standardization to transform data columns into a common format which allows me to make the meaningful comparison. I will consider features of each option as a vector elements and take the square root of the sum of the components' squares.The biggest vector magnitude means the most suitable option. I will also use Folium for mapping purposes.\n\n", 
            "cell_type": "markdown", 
            "metadata": {}
        }, 
        {
            "source": "", 
            "cell_type": "code", 
            "metadata": {}, 
            "outputs": [], 
            "execution_count": null
        }
    ], 
    "metadata": {
        "kernelspec": {
            "display_name": "Python 3.5", 
            "name": "python3", 
            "language": "python"
        }, 
        "language_info": {
            "mimetype": "text/x-python", 
            "nbconvert_exporter": "python", 
            "version": "3.5.5", 
            "name": "python", 
            "file_extension": ".py", 
            "pygments_lexer": "ipython3", 
            "codemirror_mode": {
                "version": 3, 
                "name": "ipython"
            }
        }
    }, 
    "nbformat": 4
}