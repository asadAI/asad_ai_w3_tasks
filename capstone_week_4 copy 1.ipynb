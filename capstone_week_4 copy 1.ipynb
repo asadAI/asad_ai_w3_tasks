{
    "nbformat_minor": 1, 
    "cells": [
        {
            "source": "\n# Work and Live in Houston\n\n## IBM Data Science Professional Certificate \u2022 Capstone Project \u2022 Week 4 \u2022 Asadullah Aliyev\n", 
            "cell_type": "markdown", 
            "metadata": {
                "collapsed": true
            }
        }, 
        {
            "source": "# 1. A description of the problem and a discussion of the background.\n\nI won Green Card Lottery and will move to Houston with my family - my wife and children. Therefore to buy a house from the best place is very vital for me. I know that the location of a house is just as important as the house itself. I need to choose an area wisely, making sure it's a place where tenants will want to live. On this matter, I consider below factors while buying house:\n\n\n**First** and the most important factor to consider is safety, making sure the neighborhood's crime rates are not too high. It is my obligation to ensure that my family lives in a safe place.\n\n**Second**, I will have a look at the local school district. As a parent, I am more likely to choose areas that have well-ranked schools.\n\n**Third**, the distance to work. Wherever you decide to live, you\u2019re going to be commuting from that place to wherever it is that you work. That commute is going to have a cost in the form of both money and time, a cost that is going to be repeated over and over and over again as long as you have that job. So, if you live close to that area, great!\n\n**Fourth**, I will check if house is closest to relevant amenities like businesses, theaters, schools and other common destinations, especially to parks. Taking a walk with my family is a wonderful way of connecting and spending time together. In our home country, we usually walk with my family in the parks.\n\n**Fifth**, the last but not the least, a price affordability. So, I should consider the neighborhoods with affordable home prices which also meet my financial requirements. \n\nSummarising all above, location is very important and it will determine the convenience for my family and myself. I should take into consideration where I work, where my children will study and how we can spent our spare time in order to succesfully balance work and life balance. Therefore, I should find the best place, so I won't travel so far to work or children will not have to travel too far to school and myself and my family can enjoy our life.\n\n", 
            "cell_type": "markdown", 
            "metadata": {}
        }, 
        {
            "execution_count": null, 
            "cell_type": "code", 
            "metadata": {}, 
            "outputs": [], 
            "source": ""
        }
    ], 
    "metadata": {
        "kernelspec": {
            "display_name": "Python 3.5", 
            "name": "python3", 
            "language": "python"
        }, 
        "language_info": {
            "mimetype": "text/x-python", 
            "nbconvert_exporter": "python", 
            "version": "3.5.5", 
            "name": "python", 
            "file_extension": ".py", 
            "pygments_lexer": "ipython3", 
            "codemirror_mode": {
                "version": 3, 
                "name": "ipython"
            }
        }
    }, 
    "nbformat": 4
}