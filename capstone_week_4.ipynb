{
    "nbformat_minor": 1, 
    "cells": [
        {
            "source": "\n<img src = \"https://www.hvs.com/StaticContent//Image/17Houston/Houston.png\" width = 1100> \n\n<h1 align=center><font color = \"blue\"><font size = 7>Work and Live in Houston</font></h1>\n<h1 align=center><font color = \"green\"><font size = 5>IBM Data Science Professional Certificate \u2022 Capstone Project \u2022 Week 4 \u2022 Asadullah Aliyev</font>\n", 
            "cell_type": "markdown", 
            "metadata": {
                "collapsed": true
            }
        }, 
        {
            "source": "# 1. A description of the problem and a discussion of the background.\n\nI won Green Card Lottery and will move to Houston with my family - my wife and children. Therefore to buy a house from the best place is very vital for me. I know that the location of a house is just as important as the house itself. I need to choose an area wisely, making sure it's a place where tenants will want to live. On this matter, I consider below factors while buying house:\n\n\n<font color='brown'>First</font> and the most important factor to consider is safety, making sure the neighborhood's crime rates are not too high. It is my obligation to ensure that my family lives in a safe place.\n\n<font color='brown'>Second</font>, I will have a look at the local school district. As a parent, I am more likely to choose areas that have well-ranked schools.\n\n<font color='brown'>Third</font>, the distance to work. Wherever you decide to live, you\u2019re going to be commuting from that place to wherever it is that you work. That commute is going to have a cost in the form of both money and time, a cost that is going to be repeated over and over and over again as long as you have that job. So, if you live close to that area, great!\n\n<font color='brown'>Fourth</font>, I will check if house is closest to relevant amenities like businesses, theaters, schools and other common destinations, especially to parks. \nTaking a walk with my family is a wonderful way of connecting and spending time together. In our home country, we usually walk with my family in the parks.\n\n<font color='brown'>Fifth</font>, the last but not the least, a price affordability. So, I should consider the neighborhoods with affordable home prices which also meet my financial requirements. \n\nSummarising all above, location is very important and it will determine the convenience for my family and myself. I should take into consideration where I work, where my children will study and how we can spent our spare time in order to succesfully balance work and life balance. Therefore, I should find the best place, so I won't travel so far to work or children will not have to travel too far to school and myself and my family can enjoy our life.\n\n<img src = \"https://pngimage.net/wp-content/uploads/2018/06/houston-png-3.png\" width = 600> \n\n\n", 
            "cell_type": "markdown", 
            "metadata": {}
        }, 
        {
            "source": "# 2. A description of the data and how it will be used to solve the problem.\n\nI will use different sources to find out proper data to analyze. First of all, I will refer to [Niche.com's](https://www.niche.com/places-to-live/search/best-zip-codes-to-buy-a-house/m/houston-metro-area/) \"2018 Best ZIP Codes to Buy a House in the Houston Area\" analysis and take the list of Top 10 ZIP codes. Then I will make my own analysis to find out the best place that meets my requirements.\n\n**CRIME RATE**: If your neighborhood is not safe, you and your family will live in fear and won't be happy at all. <font color='red'>Crime rate</font> is one the key indicators to check if potential neighborhood is safe. [Neighborhood Scout.com's]( www.neighborhoodscout.com) displays a breakdown of the crimes committed in the vicinity. Since there is not available listed bulk crime rates for Houston ZIP codes, I will use individual search funcionality for each case. There are a lot of crime indicators, like violent crime, property crime, crime per square mile, etc. But, I will use annual crime rate per 1000 resident indicator. \n\n**TRAVEL TO WORK**: I will use <font color='red'>Mean travel time to work</font> indicator to compare the neighborhoods. Travel time to work refers to the total number of minutes that it usually took the person to get from home to work each day during the reference week. The elapsed time includes time spent waiting for public transportation, picking up passengers in carpools, and time spent in other activities related to getting to work. For this indicator, I will use comprehensive chart from the article written by Katharine Shilcutt in the April 2015 issue of [Houstonia magazine](https://www.houstoniamag.com/articles/2015/3/30/houston-neighborhoods-by-the-numbers-april-2015).\n \n**SCHOOL RATES**: Since my children are high school students, I will use <font color='red'>Grade for High Schools</font> indicator from [Houstonia magazine](https://www.houstoniamag.com/articles/2015/3/30/houston-neighborhoods-by-the-numbers-april-2015) article for comparison. The rates are in traditional letter system\u2014A, B, C, and D.\n\n**CLOSEST TO AMENITIES**: For this category, I will refer <font color='red'>Walkability Score</font> from [Neighborhoods by the Numbers 2015](https://www.houstoniamag.com/articles/2015/3/30/houston-neighborhoods-by-the-numbers-april-2015) article. Walkability is a measure of how friendly an area is to walking. The extent to which the built environment is friendly to the presence of people living, shopping, visiting, enjoying or spending time in an area.\n\n**HOME PRICES**: To decide on price affordability, I will use <font color='red'>Median Home Price</font> indicator from the previous source - [Neighborhoods by the Numbers 2015](https://www.houstoniamag.com/articles/2015/3/30/houston-neighborhoods-by-the-numbers-april-2015) article. \n\nI will tranform all above data into a pandas dataframe. Then I will do standardization to transform data columns into a common format which allows me to make the meaningful comparison. I will consider features of each option as a vector elements and take the square root of the sum of the components' squares.The biggest vector magnitude means the most suitable option. I will also use Folium for mapping purposes.\n\n<img src = \"https://www.online-convert.com/downloadFile/b466970e-9047-4501-babe-3610f50b3183/hombre-negocios-relajado-pensando-futuro_1232-733.png\" width = 200 color= \"grey\">", 
            "cell_type": "markdown", 
            "metadata": {}
        }
    ], 
    "metadata": {
        "kernelspec": {
            "display_name": "Python 3.5", 
            "name": "python3", 
            "language": "python"
        }, 
        "language_info": {
            "mimetype": "text/x-python", 
            "nbconvert_exporter": "python", 
            "version": "3.5.5", 
            "name": "python", 
            "pygments_lexer": "ipython3", 
            "file_extension": ".py", 
            "codemirror_mode": {
                "version": 3, 
                "name": "ipython"
            }
        }
    }, 
    "nbformat": 4
}