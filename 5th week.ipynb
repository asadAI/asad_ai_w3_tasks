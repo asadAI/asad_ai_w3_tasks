{
    "nbformat_minor": 1, 
    "cells": [
        {
            "source": "\n# Work and Live in Houston\n\n## IBM Data Science Professional Certificate \u2022 Capstone Project \u2022 Week 5 \u2022 Asadullah Aliyev\n", 
            "cell_type": "markdown", 
            "metadata": {
                "collapsed": true
            }
        }, 
        {
            "execution_count": 4, 
            "cell_type": "code", 
            "metadata": {}, 
            "outputs": [
                {
                    "output_type": "stream", 
                    "name": "stdout", 
                    "text": "Fetching package metadata .............\nSolving package specifications: .\n\nPackage plan for installation in environment /opt/conda/envs/DSX-Python35:\n\nThe following NEW packages will be INSTALLED:\n\n    geographiclib: 1.49-py_0   conda-forge\n    geopy:         1.18.1-py_0 conda-forge\n\ngeographiclib- 100% |################################| Time: 0:00:00  22.88 MB/s\ngeopy-1.18.1-p 100% |################################| Time: 0:00:00  34.98 MB/s\nFetching package metadata .............\nSolving package specifications: .\n\nPackage plan for installation in environment /opt/conda/envs/DSX-Python35:\n\nThe following NEW packages will be INSTALLED:\n\n    altair:  2.2.2-py35_1 conda-forge\n    branca:  0.3.1-py_0   conda-forge\n    folium:  0.5.0-py_0   conda-forge\n    vincent: 0.4.4-py_1   conda-forge\n\naltair-2.2.2-p 100% |################################| Time: 0:00:00  19.49 MB/s\nbranca-0.3.1-p 100% |################################| Time: 0:00:00  36.88 MB/s\nvincent-0.4.4- 100% |################################| Time: 0:00:00  39.60 MB/s\nfolium-0.5.0-p 100% |################################| Time: 0:00:00  45.65 MB/s\nLibraries imported.\n"
                }
            ], 
            "source": "import numpy as np # library to handle data in a vectorized manner\n\nimport pandas as pd # library for data analsysis\npd.set_option('display.max_columns', None)\npd.set_option('display.max_rows', None)\n\nimport json # library to handle JSON files\n\n!conda install -c conda-forge geopy --yes # uncomment this line if you haven't completed the Foursquare API lab\nfrom geopy.geocoders import Nominatim # convert an address into latitude and longitude values\n\nimport requests # library to handle requests\nfrom pandas.io.json import json_normalize # tranform JSON file into a pandas dataframe\n\n# Matplotlib and associated plotting modules\nimport matplotlib.cm as cm\nimport matplotlib.colors as colors\n\n# import k-means from clustering stage\nfrom sklearn.cluster import KMeans\n\n!conda install -c conda-forge folium=0.5.0 --yes # uncomment this line if you haven't completed the Foursquare API lab\nimport folium # map rendering library\n\nprint('Libraries imported.')"
        }, 
        {
            "source": "### Let's create empty dataframe *df* with a column named as Zip code.", 
            "cell_type": "markdown", 
            "metadata": {}
        }, 
        {
            "execution_count": 5, 
            "cell_type": "code", 
            "metadata": {}, 
            "outputs": [
                {
                    "execution_count": 5, 
                    "metadata": {}, 
                    "data": {
                        "text/html": "<div>\n<style scoped>\n    .dataframe tbody tr th:only-of-type {\n        vertical-align: middle;\n    }\n\n    .dataframe tbody tr th {\n        vertical-align: top;\n    }\n\n    .dataframe thead th {\n        text-align: right;\n    }\n</style>\n<table border=\"1\" class=\"dataframe\">\n  <thead>\n    <tr style=\"text-align: right;\">\n      <th></th>\n      <th>Zip code</th>\n    </tr>\n  </thead>\n  <tbody>\n  </tbody>\n</table>\n</div>", 
                        "text/plain": "Empty DataFrame\nColumns: [Zip code]\nIndex: []"
                    }, 
                    "output_type": "execute_result"
                }
            ], 
            "source": "df = pd.DataFrame(columns= [\"Zip code\"]) # empty dataframe\ndf"
        }, 
        {
            "source": "### Now let's extract Top 10 Zip codes from [Niche.com's](https://www.niche.com/places-to-live/search/best-zip-codes-to-buy-a-house/m/houston-metro-area/) \"2018 Best ZIP Codes to Buy a House in the Houston Area\" article and append to dataframe df.", 
            "cell_type": "markdown", 
            "metadata": {}
        }, 
        {
            "execution_count": 6, 
            "cell_type": "code", 
            "metadata": {}, 
            "outputs": [
                {
                    "execution_count": 6, 
                    "metadata": {}, 
                    "data": {
                        "text/html": "<div>\n<style scoped>\n    .dataframe tbody tr th:only-of-type {\n        vertical-align: middle;\n    }\n\n    .dataframe tbody tr th {\n        vertical-align: top;\n    }\n\n    .dataframe thead th {\n        text-align: right;\n    }\n</style>\n<table border=\"1\" class=\"dataframe\">\n  <thead>\n    <tr style=\"text-align: right;\">\n      <th></th>\n      <th>Zip code</th>\n    </tr>\n  </thead>\n  <tbody>\n    <tr>\n      <th>0</th>\n      <td>77345</td>\n    </tr>\n    <tr>\n      <th>1</th>\n      <td>77059</td>\n    </tr>\n    <tr>\n      <th>2</th>\n      <td>77094</td>\n    </tr>\n    <tr>\n      <th>3</th>\n      <td>77406</td>\n    </tr>\n    <tr>\n      <th>4</th>\n      <td>77546</td>\n    </tr>\n    <tr>\n      <th>5</th>\n      <td>77494</td>\n    </tr>\n    <tr>\n      <th>6</th>\n      <td>77479</td>\n    </tr>\n    <tr>\n      <th>7</th>\n      <td>77429</td>\n    </tr>\n    <tr>\n      <th>8</th>\n      <td>77586</td>\n    </tr>\n    <tr>\n      <th>9</th>\n      <td>77385</td>\n    </tr>\n  </tbody>\n</table>\n</div>", 
                        "text/plain": "  Zip code\n0    77345\n1    77059\n2    77094\n3    77406\n4    77546\n5    77494\n6    77479\n7    77429\n8    77586\n9    77385"
                    }, 
                    "output_type": "execute_result"
                }
            ], 
            "source": "import requests\nfrom bs4 import BeautifulSoup\nimport pandas as pd\n\nr= requests.get(\"https://www.niche.com/places-to-live/search/best-zip-codes-to-buy-a-house/m/houston-metro-area/\")\nsoup = BeautifulSoup(r.content, \"html.parser\")\n\nfor i in range(10):  # Top 10 Zip codes\n    df= df.append({'Zip code': int(soup.find_all(\"h2\", {\"class\":\"search-result__title\"})[i].text)},ignore_index=True)\n\ndf"
        }, 
        {
            "source": "### [Best Places.net's]( https://www.bestplaces.net/) displays a breakdown of the crimes committed in the vicinity. Since there is not available listed bulk crime rates for Houston ZIP codes, I will use individual search funcionality offline for each case. I will use annual crime rate per 1000 resident indicator. \n\n\n", 
            "cell_type": "markdown", 
            "metadata": {}
        }, 
        {
            "execution_count": 7, 
            "cell_type": "code", 
            "metadata": {}, 
            "outputs": [
                {
                    "execution_count": 7, 
                    "metadata": {}, 
                    "data": {
                        "text/html": "<div>\n<style scoped>\n    .dataframe tbody tr th:only-of-type {\n        vertical-align: middle;\n    }\n\n    .dataframe tbody tr th {\n        vertical-align: top;\n    }\n\n    .dataframe thead th {\n        text-align: right;\n    }\n</style>\n<table border=\"1\" class=\"dataframe\">\n  <thead>\n    <tr style=\"text-align: right;\">\n      <th></th>\n      <th>Crime rate</th>\n      <th>Zip code</th>\n    </tr>\n  </thead>\n  <tbody>\n    <tr>\n      <th>0</th>\n      <td>38.3</td>\n      <td>77345</td>\n    </tr>\n    <tr>\n      <th>1</th>\n      <td>42.7</td>\n      <td>77059</td>\n    </tr>\n    <tr>\n      <th>2</th>\n      <td>34.7</td>\n      <td>77094</td>\n    </tr>\n    <tr>\n      <th>3</th>\n      <td>35.7</td>\n      <td>77406</td>\n    </tr>\n    <tr>\n      <th>4</th>\n      <td>50.7</td>\n      <td>77546</td>\n    </tr>\n    <tr>\n      <th>5</th>\n      <td>35.5</td>\n      <td>77494</td>\n    </tr>\n    <tr>\n      <th>6</th>\n      <td>32.5</td>\n      <td>77479</td>\n    </tr>\n    <tr>\n      <th>7</th>\n      <td>48.4</td>\n      <td>77429</td>\n    </tr>\n    <tr>\n      <th>8</th>\n      <td>70.2</td>\n      <td>77586</td>\n    </tr>\n    <tr>\n      <th>9</th>\n      <td>47.4</td>\n      <td>77385</td>\n    </tr>\n  </tbody>\n</table>\n</div>", 
                        "text/plain": "   Crime rate  Zip code\n0        38.3     77345\n1        42.7     77059\n2        34.7     77094\n3        35.7     77406\n4        50.7     77546\n5        35.5     77494\n6        32.5     77479\n7        48.4     77429\n8        70.2     77586\n9        47.4     77385"
                    }, 
                    "output_type": "execute_result"
                }
            ], 
            "source": "crime_data = {'Zip code': [77345, 77059, 77094, 77406, 77546, 77494, 77479, 77429, 77586, 77385],\n             'Crime rate': [38.3, 42.7, 34.7, 35.7, 50.7, 35.5, 32.5, 48.4, 70.2, 47.4]}\ncrime = pd.DataFrame(data=crime_data)\ncrime\n"
        }, 
        {
            "source": "### Now let's inner join df and crime dataframes under  dataframe *df*", 
            "cell_type": "markdown", 
            "metadata": {}
        }, 
        {
            "execution_count": 8, 
            "cell_type": "code", 
            "metadata": {}, 
            "outputs": [
                {
                    "execution_count": 8, 
                    "metadata": {}, 
                    "data": {
                        "text/html": "<div>\n<style scoped>\n    .dataframe tbody tr th:only-of-type {\n        vertical-align: middle;\n    }\n\n    .dataframe tbody tr th {\n        vertical-align: top;\n    }\n\n    .dataframe thead th {\n        text-align: right;\n    }\n</style>\n<table border=\"1\" class=\"dataframe\">\n  <thead>\n    <tr style=\"text-align: right;\">\n      <th></th>\n      <th>Zip code</th>\n      <th>Crime rate</th>\n    </tr>\n  </thead>\n  <tbody>\n    <tr>\n      <th>0</th>\n      <td>77345</td>\n      <td>38.3</td>\n    </tr>\n    <tr>\n      <th>1</th>\n      <td>77059</td>\n      <td>42.7</td>\n    </tr>\n    <tr>\n      <th>2</th>\n      <td>77094</td>\n      <td>34.7</td>\n    </tr>\n    <tr>\n      <th>3</th>\n      <td>77406</td>\n      <td>35.7</td>\n    </tr>\n    <tr>\n      <th>4</th>\n      <td>77546</td>\n      <td>50.7</td>\n    </tr>\n    <tr>\n      <th>5</th>\n      <td>77494</td>\n      <td>35.5</td>\n    </tr>\n    <tr>\n      <th>6</th>\n      <td>77479</td>\n      <td>32.5</td>\n    </tr>\n    <tr>\n      <th>7</th>\n      <td>77429</td>\n      <td>48.4</td>\n    </tr>\n    <tr>\n      <th>8</th>\n      <td>77586</td>\n      <td>70.2</td>\n    </tr>\n    <tr>\n      <th>9</th>\n      <td>77385</td>\n      <td>47.4</td>\n    </tr>\n  </tbody>\n</table>\n</div>", 
                        "text/plain": "  Zip code  Crime rate\n0    77345        38.3\n1    77059        42.7\n2    77094        34.7\n3    77406        35.7\n4    77546        50.7\n5    77494        35.5\n6    77479        32.5\n7    77429        48.4\n8    77586        70.2\n9    77385        47.4"
                    }, 
                    "output_type": "execute_result"
                }
            ], 
            "source": "df=pd.merge(df, crime, on='Zip code')\ndf"
        }, 
        {
            "source": "### For *\"Area\", \"Travel to work\",\"School rates\",\"Closer to amenities\" and \"Home prices\"*,  we will use comprehensive chart from the article written by Katharine Shilcutt in the April 2015 issue of [Houstonia magazine](https://www.houstoniamag.com/articles/2015/3/30/houston-neighborhoods-by-the-numbers-april-2015). Let's extract table headings from website.", 
            "cell_type": "markdown", 
            "metadata": {}
        }, 
        {
            "execution_count": 9, 
            "cell_type": "code", 
            "metadata": {}, 
            "outputs": [
                {
                    "execution_count": 9, 
                    "metadata": {}, 
                    "data": {
                        "text/plain": "[<tr>\n <th title=\"Field #1\">Market Area</th>\n <th title=\"Field #2\">ZIP Code</th>\n <th title=\"Field #3\">2014 Median Home Price</th>\n <th title=\"Field #4\">% Growth 2010-2014</th>\n <th title=\"Field #5\">% Growth 2013-2014</th>\n <th title=\"Field #6\">Avg. Days on Market in 2014</th>\n <th title=\"Field #7\">Population</th>\n <th title=\"Field #8\">% Owner Occupied</th>\n <th title=\"Field #9\">Median Income</th>\n <th title=\"Field #10\">Median Age</th>\n <th title=\"Field #11\">% Below Poverty Line</th>\n <th title=\"Field #12\">% Unemployed</th>\n <th title=\"Field #13\">% of Population Under 14</th>\n <th title=\"Field #14\">% Enrolled in Private Schools</th>\n <th title=\"Field #15\">Grade for Elementary Schools</th>\n <th title=\"Field #16\">Grade for Middle Schools</th>\n <th title=\"Field #17\">Grade for High Schools</th>\n <th title=\"Field #18\">Walkability Score</th>\n <th title=\"Field #19\">% Using Public Transportation</th>\n <th title=\"Field #20\">% Carpooling</th>\n <th title=\"Field #21\">Mean Travel Time to Work</th>\n <th title=\"Field #22\">% with Bachelor's Degree</th>\n <th title=\"Field #23\">No. of Crossfit Gyms</th>\n <th title=\"Field #24\">No. of Parks</th>\n <th title=\"Field #25\">No. of Starbucks</th>\n </tr>]"
                    }, 
                    "output_type": "execute_result"
                }
            ], 
            "source": "r= requests.get(\"https://www.houstoniamag.com/articles/2015/3/30/houston-neighborhoods-by-the-numbers-april-2015\")\nsoup = BeautifulSoup(r.content, \"html.parser\")\n\ntable_head=soup.find_all(\"table\", {\"id\":\"fixed_hdr\"})[0].thead.find_all('tr')\ntable_head\n"
        }, 
        {
            "source": "### Then extract the columns we need and add them into newly dataframe *table*\n", 
            "cell_type": "markdown", 
            "metadata": {}
        }, 
        {
            "execution_count": 10, 
            "cell_type": "code", 
            "metadata": {}, 
            "outputs": [
                {
                    "execution_count": 10, 
                    "metadata": {}, 
                    "data": {
                        "text/html": "<div>\n<style scoped>\n    .dataframe tbody tr th:only-of-type {\n        vertical-align: middle;\n    }\n\n    .dataframe tbody tr th {\n        vertical-align: top;\n    }\n\n    .dataframe thead th {\n        text-align: right;\n    }\n</style>\n<table border=\"1\" class=\"dataframe\">\n  <thead>\n    <tr style=\"text-align: right;\">\n      <th></th>\n      <th>Area</th>\n      <th>Closer to amenities</th>\n      <th>Home prices-USD</th>\n      <th>School rates</th>\n      <th>Travel to work</th>\n      <th>Zip code</th>\n    </tr>\n  </thead>\n  <tbody>\n    <tr>\n      <th>0</th>\n      <td>1960/Cypress</td>\n      <td>N/A</td>\n      <td>150000</td>\n      <td>N/A</td>\n      <td>27.07</td>\n      <td>77065.0</td>\n    </tr>\n    <tr>\n      <th>1</th>\n      <td>Aldine Area</td>\n      <td>N/A</td>\n      <td>112500</td>\n      <td>B+</td>\n      <td>29.53</td>\n      <td>77039.0</td>\n    </tr>\n    <tr>\n      <th>2</th>\n      <td>Alief</td>\n      <td>48</td>\n      <td>126750</td>\n      <td>B+</td>\n      <td>28.51</td>\n      <td>77072.0</td>\n    </tr>\n    <tr>\n      <th>3</th>\n      <td>Alvin North</td>\n      <td>23</td>\n      <td>193471</td>\n      <td>B+</td>\n      <td>30.36</td>\n      <td>77511.0</td>\n    </tr>\n    <tr>\n      <th>4</th>\n      <td>Alvin South</td>\n      <td>23</td>\n      <td>140000</td>\n      <td>B+</td>\n      <td>30.36</td>\n      <td>77511.0</td>\n    </tr>\n  </tbody>\n</table>\n</div>", 
                        "text/plain": "           Area Closer to amenities Home prices-USD School rates  \\\n0  1960/Cypress                 N/A          150000          N/A   \n1   Aldine Area                 N/A          112500           B+   \n2         Alief                  48          126750           B+   \n3   Alvin North                  23          193471           B+   \n4   Alvin South                  23          140000           B+   \n\n  Travel to work  Zip code  \n0          27.07   77065.0  \n1          29.53   77039.0  \n2          28.51   77072.0  \n3          30.36   77511.0  \n4          30.36   77511.0  "
                    }, 
                    "output_type": "execute_result"
                }
            ], 
            "source": "table=pd.DataFrame(columns= []) # empty dataframe\ntable_row=soup.find_all(\"table\", {\"id\":\"fixed_hdr\"})[0].tbody.find_all('td')\n\nfor i in range(len(table_row)-75): \n     if i % 25==0:  \n        table= table.append({'Area': table_row[i].text, \n                             'Zip code': int(table_row[i+1].text),\n                             'Travel to work': str(table_row[i+20].text).replace(\"<td>\",\"\"),\n                             'School rates': str(table_row[i+16].text).replace(\"<td>\",\"\"),\n                             'Closer to amenities': str(table_row[i+17].text).replace(\"<td>\",\"\"),\n                             'Home prices-USD': str(table_row[i+2].text).replace(\"<td>\",\"\").replace(\"$\",\"\").replace(\",\",\"\")\n                            },ignore_index=True)\n\ntable.head()"
        }, 
        {
            "source": "### Now, let's merge (inner join) two dataframes table and df under df", 
            "cell_type": "markdown", 
            "metadata": {}
        }, 
        {
            "execution_count": 11, 
            "cell_type": "code", 
            "metadata": {}, 
            "outputs": [
                {
                    "execution_count": 11, 
                    "metadata": {}, 
                    "data": {
                        "text/html": "<div>\n<style scoped>\n    .dataframe tbody tr th:only-of-type {\n        vertical-align: middle;\n    }\n\n    .dataframe tbody tr th {\n        vertical-align: top;\n    }\n\n    .dataframe thead th {\n        text-align: right;\n    }\n</style>\n<table border=\"1\" class=\"dataframe\">\n  <thead>\n    <tr style=\"text-align: right;\">\n      <th></th>\n      <th>Zip code</th>\n      <th>Crime rate</th>\n      <th>Area</th>\n      <th>Closer to amenities</th>\n      <th>Home prices-USD</th>\n      <th>School rates</th>\n      <th>Travel to work</th>\n    </tr>\n  </thead>\n  <tbody>\n    <tr>\n      <th>0</th>\n      <td>77345</td>\n      <td>38.3</td>\n      <td>Kingwood East</td>\n      <td>16</td>\n      <td>279900</td>\n      <td>N/A</td>\n      <td>35.96</td>\n    </tr>\n    <tr>\n      <th>1</th>\n      <td>77546</td>\n      <td>50.7</td>\n      <td>Friendswood</td>\n      <td>17</td>\n      <td>203094</td>\n      <td>B+</td>\n      <td>30.13</td>\n    </tr>\n    <tr>\n      <th>2</th>\n      <td>77494</td>\n      <td>35.5</td>\n      <td>Katy-Southwest</td>\n      <td>N/A</td>\n      <td>337500</td>\n      <td>B+</td>\n      <td>33.52</td>\n    </tr>\n    <tr>\n      <th>3</th>\n      <td>77479</td>\n      <td>32.5</td>\n      <td>Sugar Land South</td>\n      <td>24</td>\n      <td>442667</td>\n      <td>B+</td>\n      <td>29.96</td>\n    </tr>\n    <tr>\n      <th>4</th>\n      <td>77429</td>\n      <td>48.4</td>\n      <td>Cypress North</td>\n      <td>N/A</td>\n      <td>220000</td>\n      <td>B+</td>\n      <td>31.80</td>\n    </tr>\n  </tbody>\n</table>\n</div>", 
                        "text/plain": "  Zip code  Crime rate              Area Closer to amenities Home prices-USD  \\\n0    77345        38.3     Kingwood East                  16          279900   \n1    77546        50.7       Friendswood                  17          203094   \n2    77494        35.5    Katy-Southwest                 N/A          337500   \n3    77479        32.5  Sugar Land South                  24          442667   \n4    77429        48.4     Cypress North                 N/A          220000   \n\n  School rates Travel to work  \n0          N/A          35.96  \n1           B+          30.13  \n2           B+          33.52  \n3           B+          29.96  \n4           B+          31.80  "
                    }, 
                    "output_type": "execute_result"
                }
            ], 
            "source": "df=pd.merge(df, table, on='Zip code')\ndf"
        }, 
        {
            "source": "### As seen from  above table, only 5 items match in two dataframes. Now let's replace N/A items with average in \"Close to amenities\" field and B+ \"School rates\" field. Then make standardization to transform data columns into a common format which allows me to make the meaningful comparison \n", 
            "cell_type": "markdown", 
            "metadata": {}
        }, 
        {
            "execution_count": 12, 
            "cell_type": "code", 
            "metadata": {}, 
            "outputs": [
                {
                    "execution_count": 12, 
                    "metadata": {}, 
                    "data": {
                        "text/html": "<div>\n<style scoped>\n    .dataframe tbody tr th:only-of-type {\n        vertical-align: middle;\n    }\n\n    .dataframe tbody tr th {\n        vertical-align: top;\n    }\n\n    .dataframe thead th {\n        text-align: right;\n    }\n</style>\n<table border=\"1\" class=\"dataframe\">\n  <thead>\n    <tr style=\"text-align: right;\">\n      <th></th>\n      <th>Zip code</th>\n      <th>Crime rate</th>\n      <th>Area</th>\n      <th>Closer to amenities</th>\n      <th>Home prices-USD</th>\n      <th>School rates</th>\n      <th>Travel to work</th>\n    </tr>\n  </thead>\n  <tbody>\n    <tr>\n      <th>0</th>\n      <td>77345</td>\n      <td>0.186465</td>\n      <td>Kingwood East</td>\n      <td>0.168421</td>\n      <td>0.188719</td>\n      <td>1</td>\n      <td>0.222842</td>\n    </tr>\n    <tr>\n      <th>1</th>\n      <td>77546</td>\n      <td>0.246835</td>\n      <td>Friendswood</td>\n      <td>0.178947</td>\n      <td>0.136933</td>\n      <td>1</td>\n      <td>0.186714</td>\n    </tr>\n    <tr>\n      <th>2</th>\n      <td>77494</td>\n      <td>0.172833</td>\n      <td>Katy-Southwest</td>\n      <td>0.200000</td>\n      <td>0.227555</td>\n      <td>1</td>\n      <td>0.207721</td>\n    </tr>\n    <tr>\n      <th>3</th>\n      <td>77479</td>\n      <td>0.158228</td>\n      <td>Sugar Land South</td>\n      <td>0.252632</td>\n      <td>0.298462</td>\n      <td>1</td>\n      <td>0.185660</td>\n    </tr>\n    <tr>\n      <th>4</th>\n      <td>77429</td>\n      <td>0.235638</td>\n      <td>Cypress North</td>\n      <td>0.200000</td>\n      <td>0.148332</td>\n      <td>1</td>\n      <td>0.197063</td>\n    </tr>\n  </tbody>\n</table>\n</div>", 
                        "text/plain": "  Zip code  Crime rate              Area  Closer to amenities  \\\n0    77345    0.186465     Kingwood East             0.168421   \n1    77546    0.246835       Friendswood             0.178947   \n2    77494    0.172833    Katy-Southwest             0.200000   \n3    77479    0.158228  Sugar Land South             0.252632   \n4    77429    0.235638     Cypress North             0.200000   \n\n   Home prices-USD  School rates  Travel to work  \n0         0.188719             1        0.222842  \n1         0.136933             1        0.186714  \n2         0.227555             1        0.207721  \n3         0.298462             1        0.185660  \n4         0.148332             1        0.197063  "
                    }, 
                    "output_type": "execute_result"
                }
            ], 
            "source": "df.loc[df['Closer to amenities']== 'N/A','Closer to amenities' ]=19\ndf.loc[df['School rates']== 'N/A','School rates' ]=\"B+\"\ndf[[\"Closer to amenities\", \"Home prices-USD\",\"Travel to work\"]] = df[[\"Closer to amenities\", \"Home prices-USD\",\"Travel to work\"]].astype(\"float\")\ndf[\"Crime rate\"]=df[\"Crime rate\"]/sum(df[\"Crime rate\"])\ndf[\"Closer to amenities\"]=df[\"Closer to amenities\"]/sum(df[\"Closer to amenities\"])\ndf[\"Home prices-USD\"]=df[\"Home prices-USD\"]/sum(df[\"Home prices-USD\"])\ndf[\"Travel to work\"]=df[\"Travel to work\"]/sum(df[\"Travel to work\"])\ndf[\"School rates\"]=1\ndf"
        }, 
        {
            "source": "### We need latitude and logitude info per zips and we  will use [PeriscopeData.com](https://community.periscopedata.com/media/36x6sg/download/zip_codes_states.csv) info on this matter and add proper indicators to our dataframe ", 
            "cell_type": "markdown", 
            "metadata": {}
        }, 
        {
            "execution_count": 13, 
            "cell_type": "code", 
            "metadata": {}, 
            "outputs": [
                {
                    "execution_count": 13, 
                    "metadata": {}, 
                    "data": {
                        "text/html": "<div>\n<style scoped>\n    .dataframe tbody tr th:only-of-type {\n        vertical-align: middle;\n    }\n\n    .dataframe tbody tr th {\n        vertical-align: top;\n    }\n\n    .dataframe thead th {\n        text-align: right;\n    }\n</style>\n<table border=\"1\" class=\"dataframe\">\n  <thead>\n    <tr style=\"text-align: right;\">\n      <th></th>\n      <th>Zip code</th>\n      <th>Crime rate</th>\n      <th>Area</th>\n      <th>Closer to amenities</th>\n      <th>Home prices-USD</th>\n      <th>School rates</th>\n      <th>Travel to work</th>\n      <th>latitude</th>\n      <th>longitude</th>\n    </tr>\n  </thead>\n  <tbody>\n    <tr>\n      <th>0</th>\n      <td>77345</td>\n      <td>0.186465</td>\n      <td>Kingwood East</td>\n      <td>0.168421</td>\n      <td>0.188719</td>\n      <td>1</td>\n      <td>0.222842</td>\n      <td>29.833990</td>\n      <td>-95.434241</td>\n    </tr>\n    <tr>\n      <th>1</th>\n      <td>77546</td>\n      <td>0.246835</td>\n      <td>Friendswood</td>\n      <td>0.178947</td>\n      <td>0.136933</td>\n      <td>1</td>\n      <td>0.186714</td>\n      <td>29.482185</td>\n      <td>-95.156545</td>\n    </tr>\n    <tr>\n      <th>2</th>\n      <td>77494</td>\n      <td>0.172833</td>\n      <td>Katy-Southwest</td>\n      <td>0.200000</td>\n      <td>0.227555</td>\n      <td>1</td>\n      <td>0.207721</td>\n      <td>29.833990</td>\n      <td>-95.434241</td>\n    </tr>\n    <tr>\n      <th>3</th>\n      <td>77479</td>\n      <td>0.158228</td>\n      <td>Sugar Land South</td>\n      <td>0.252632</td>\n      <td>0.298462</td>\n      <td>1</td>\n      <td>0.185660</td>\n      <td>29.552921</td>\n      <td>-95.666778</td>\n    </tr>\n    <tr>\n      <th>4</th>\n      <td>77429</td>\n      <td>0.235638</td>\n      <td>Cypress North</td>\n      <td>0.200000</td>\n      <td>0.148332</td>\n      <td>1</td>\n      <td>0.197063</td>\n      <td>29.833990</td>\n      <td>-95.434241</td>\n    </tr>\n  </tbody>\n</table>\n</div>", 
                        "text/plain": "  Zip code  Crime rate              Area  Closer to amenities  \\\n0    77345    0.186465     Kingwood East             0.168421   \n1    77546    0.246835       Friendswood             0.178947   \n2    77494    0.172833    Katy-Southwest             0.200000   \n3    77479    0.158228  Sugar Land South             0.252632   \n4    77429    0.235638     Cypress North             0.200000   \n\n   Home prices-USD  School rates  Travel to work   latitude  longitude  \n0         0.188719             1        0.222842  29.833990 -95.434241  \n1         0.136933             1        0.186714  29.482185 -95.156545  \n2         0.227555             1        0.207721  29.833990 -95.434241  \n3         0.298462             1        0.185660  29.552921 -95.666778  \n4         0.148332             1        0.197063  29.833990 -95.434241  "
                    }, 
                    "output_type": "execute_result"
                }
            ], 
            "source": "zips=pd.read_csv(\"https://community.periscopedata.com/media/36x6sg/download/zip_codes_states.csv\") # extract all US zip codes\nzips= zips.rename(columns={'zip_code': 'Zip code'}) # rename column name zip_code for merge purposes\nzips= zips[['Zip code','latitude','longitude']] # take the fields we need\ndf=pd.merge(df, zips, on='Zip code') # merge the dataframes\ndf"
        }, 
        {
            "source": "### Let's create 'Magnitude' column to calculate square root of the sum of the components' squares. Since our values are inversely proportional, we will divide 1 to our result.", 
            "cell_type": "markdown", 
            "metadata": {}
        }, 
        {
            "execution_count": 14, 
            "cell_type": "code", 
            "metadata": {}, 
            "outputs": [
                {
                    "execution_count": 14, 
                    "metadata": {}, 
                    "data": {
                        "text/html": "<div>\n<style scoped>\n    .dataframe tbody tr th:only-of-type {\n        vertical-align: middle;\n    }\n\n    .dataframe tbody tr th {\n        vertical-align: top;\n    }\n\n    .dataframe thead th {\n        text-align: right;\n    }\n</style>\n<table border=\"1\" class=\"dataframe\">\n  <thead>\n    <tr style=\"text-align: right;\">\n      <th></th>\n      <th>Zip code</th>\n      <th>Crime rate</th>\n      <th>Area</th>\n      <th>Closer to amenities</th>\n      <th>Home prices-USD</th>\n      <th>School rates</th>\n      <th>Travel to work</th>\n      <th>latitude</th>\n      <th>longitude</th>\n      <th>Magnitude</th>\n    </tr>\n  </thead>\n  <tbody>\n    <tr>\n      <th>0</th>\n      <td>77345</td>\n      <td>0.186465</td>\n      <td>Kingwood East</td>\n      <td>0.168421</td>\n      <td>0.188719</td>\n      <td>1</td>\n      <td>0.222842</td>\n      <td>29.833990</td>\n      <td>-95.434241</td>\n      <td>5.094973</td>\n    </tr>\n    <tr>\n      <th>1</th>\n      <td>77546</td>\n      <td>0.246835</td>\n      <td>Friendswood</td>\n      <td>0.178947</td>\n      <td>0.136933</td>\n      <td>1</td>\n      <td>0.186714</td>\n      <td>29.482185</td>\n      <td>-95.156545</td>\n      <td>5.144533</td>\n    </tr>\n    <tr>\n      <th>2</th>\n      <td>77494</td>\n      <td>0.172833</td>\n      <td>Katy-Southwest</td>\n      <td>0.200000</td>\n      <td>0.227555</td>\n      <td>1</td>\n      <td>0.207721</td>\n      <td>29.833990</td>\n      <td>-95.434241</td>\n      <td>4.977575</td>\n    </tr>\n    <tr>\n      <th>3</th>\n      <td>77479</td>\n      <td>0.158228</td>\n      <td>Sugar Land South</td>\n      <td>0.252632</td>\n      <td>0.298462</td>\n      <td>1</td>\n      <td>0.185660</td>\n      <td>29.552921</td>\n      <td>-95.666778</td>\n      <td>4.749387</td>\n    </tr>\n    <tr>\n      <th>4</th>\n      <td>77429</td>\n      <td>0.235638</td>\n      <td>Cypress North</td>\n      <td>0.200000</td>\n      <td>0.148332</td>\n      <td>1</td>\n      <td>0.197063</td>\n      <td>29.833990</td>\n      <td>-95.434241</td>\n      <td>5.053249</td>\n    </tr>\n  </tbody>\n</table>\n</div>", 
                        "text/plain": "  Zip code  Crime rate              Area  Closer to amenities  \\\n0    77345    0.186465     Kingwood East             0.168421   \n1    77546    0.246835       Friendswood             0.178947   \n2    77494    0.172833    Katy-Southwest             0.200000   \n3    77479    0.158228  Sugar Land South             0.252632   \n4    77429    0.235638     Cypress North             0.200000   \n\n   Home prices-USD  School rates  Travel to work   latitude  longitude  \\\n0         0.188719             1        0.222842  29.833990 -95.434241   \n1         0.136933             1        0.186714  29.482185 -95.156545   \n2         0.227555             1        0.207721  29.833990 -95.434241   \n3         0.298462             1        0.185660  29.552921 -95.666778   \n4         0.148332             1        0.197063  29.833990 -95.434241   \n\n   Magnitude  \n0   5.094973  \n1   5.144533  \n2   4.977575  \n3   4.749387  \n4   5.053249  "
                    }, 
                    "output_type": "execute_result"
                }
            ], 
            "source": "df['Magnitude']=np.sqrt(np.square(df[['Crime rate', 'Closer to amenities','Home prices-USD','Travel to work', 'School rates']].sum(axis=1)))\ndf['Magnitude']=1/(df['Magnitude']/sum(df['Magnitude']))\ndf\n"
        }, 
        {
            "source": "### Highest number means the best option. As shown from the table, Friendswood is the best neighborhood to buy a house. ", 
            "cell_type": "markdown", 
            "metadata": {}
        }, 
        {
            "execution_count": 21, 
            "cell_type": "code", 
            "metadata": {
                "scrolled": true
            }, 
            "outputs": [
                {
                    "output_type": "stream", 
                    "name": "stdout", 
                    "text": "The geograpical coordinate of Houston are 29.7589382, -95.3676974.\n"
                }, 
                {
                    "execution_count": 21, 
                    "metadata": {}, 
                    "data": {
                        "text/html": "<div style=\"width:100%;\"><div style=\"position:relative;width:100%;height:0;padding-bottom:60%;\"><iframe src=\"data:text/html;charset=utf-8;base64,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\" style=\"position:absolute;width:100%;height:100%;left:0;top:0;border:none !important;\" allowfullscreen webkitallowfullscreen mozallowfullscreen></iframe></div></div>", 
                        "text/plain": "<folium.folium.Map at 0x7fc2fa8f3b38>"
                    }, 
                    "output_type": "execute_result"
                }
            ], 
            "source": "address = 'Houston'\n\ngeolocator = Nominatim(user_agent=\"tr_explorer\")\nlocation = geolocator.geocode(address)\nlatitude = location.latitude\nlongitude = location.longitude\nprint('The geograpical coordinate of Houston are {}, {}.'.format(latitude, longitude))\n\n# create map of New York using latitude and longitude values\nmap_houston = folium.Map(location=[latitude, longitude], zoom_start=6)\n\n# add markers to map\nfor lat, lng, zipcode in zip(df['latitude'], df['longitude'], df['Zip code']):\n    label = '{}'.format('Zip code')\n    label = folium.Popup(label, parse_html=True)\n    folium.CircleMarker(\n        [lat, lng],\n        radius=5,\n        popup=label,\n        color='blue',\n        fill=True,\n        fill_color='#3186cc',\n        fill_opacity=0.7,\n        parse_html=False).add_to(map_houston) \n \n    \nmap_houston"
        }
    ], 
    "metadata": {
        "kernelspec": {
            "display_name": "Python 3.5", 
            "name": "python3", 
            "language": "python"
        }, 
        "language_info": {
            "mimetype": "text/x-python", 
            "nbconvert_exporter": "python", 
            "version": "3.5.5", 
            "name": "python", 
            "file_extension": ".py", 
            "pygments_lexer": "ipython3", 
            "codemirror_mode": {
                "version": 3, 
                "name": "ipython"
            }
        }
    }, 
    "nbformat": 4
}